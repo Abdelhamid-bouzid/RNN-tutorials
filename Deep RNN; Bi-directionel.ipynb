{
 "cells": [
  {
   "cell_type": "markdown",
   "metadata": {},
   "source": [
    "# ======================== Libaraies ======================"
   ]
  },
  {
   "cell_type": "code",
   "execution_count": 1,
   "metadata": {},
   "outputs": [],
   "source": [
    "import torch\n",
    "import torch.nn as nn\n",
    "import numpy as np\n",
    "import matplotlib.pyplot as plt\n",
    "from sklearn.metrics import accuracy_score"
   ]
  },
  {
   "cell_type": "markdown",
   "metadata": {},
   "source": [
    "# ======================= Functions ======================="
   ]
  },
  {
   "cell_type": "code",
   "execution_count": 2,
   "metadata": {},
   "outputs": [],
   "source": [
    "def prediction(data,labels):\n",
    "    labels_pred = np.zeros(data.shape[0])\n",
    "    for i in range(data.shape[0]):\n",
    "        sequence       = data[i].to(device)\n",
    "        sequence_label = labels[i].unsqueeze(0).to(device)\n",
    "        \n",
    "        hidden = rnn.initHidden().to(device)\n",
    "        output, hidden = rnn(sequence, hidden)\n",
    "        \n",
    "        labels_pred[i] = torch.argmax(output[-1]).cpu().numpy()\n",
    "        \n",
    "    acc = accuracy_score(labels, labels_pred)\n",
    "    return labels_pred,acc"
   ]
  },
  {
   "cell_type": "markdown",
   "metadata": {},
   "source": [
    "# =================== Parameters and input ==================="
   ]
  },
  {
   "cell_type": "code",
   "execution_count": 3,
   "metadata": {},
   "outputs": [],
   "source": [
    "input_size  = 20\n",
    "output_size = 2\n",
    "hidden_size = 32\n",
    "num_layers  = 4\n",
    "\n",
    "Nb_epochs   = 10\n",
    "\n",
    "train_data    = torch.rand(1000,10,1,input_size)\n",
    "train_labels  = torch.randint(0, output_size, (1000,))\n",
    "\n",
    "test_data     = torch.rand(1000,10,1,input_size)\n",
    "test_labels   = torch.randint(0, output_size, (1000,))\n",
    "\n",
    "learning_rate = 0.005 # If you set this too high, it might explode. If too low, it might not learn\n",
    "\n",
    "criterion = nn.NLLLoss()"
   ]
  },
  {
   "cell_type": "markdown",
   "metadata": {},
   "source": [
    "# ===================== Creat RNN model =====================\n",
    "\n",
    "- the architecture\n",
    "![title](twornn.JPG)"
   ]
  },
  {
   "cell_type": "code",
   "execution_count": 4,
   "metadata": {},
   "outputs": [],
   "source": [
    "class RNN(nn.Module):\n",
    "    def __init__(self, input_size, hidden_size, output_size,num_layers):\n",
    "        super(RNN, self).__init__()\n",
    "\n",
    "        self.hidden_size = hidden_size\n",
    "        self.num_layers  = num_layers\n",
    "\n",
    "        self.rnn     = nn.RNN(input_size,hidden_size,num_layers,bidirectional=True)\n",
    "        self.ho      = nn.Linear(hidden_size*2, output_size)\n",
    "        self.softmax = nn.LogSoftmax(dim=2)\n",
    "\n",
    "    def forward(self, S, hidden):\n",
    "        \n",
    "        output,hidden = self.rnn(S, hidden)\n",
    "        \n",
    "        output = self.ho(output)\n",
    "        output = self.softmax(output)\n",
    "        return output, hidden\n",
    "\n",
    "    def initHidden(self):\n",
    "        return torch.zeros(self.num_layers*2, 1,self.hidden_size)\n",
    "    \n",
    "rnn      = RNN(input_size, hidden_size, output_size,num_layers)"
   ]
  },
  {
   "cell_type": "markdown",
   "metadata": {},
   "source": [
    "# =============== Run the model for one step of  ==================="
   ]
  },
  {
   "cell_type": "code",
   "execution_count": 5,
   "metadata": {
    "scrolled": true
   },
   "outputs": [],
   "source": [
    "hidden = torch.zeros(num_layers*2,1, hidden_size)\n",
    "output, next_hidden = rnn(train_data[0], hidden)"
   ]
  },
  {
   "cell_type": "markdown",
   "metadata": {},
   "source": [
    "# ===================== Train the network ========================"
   ]
  },
  {
   "cell_type": "code",
   "execution_count": 6,
   "metadata": {
    "scrolled": true
   },
   "outputs": [
    {
     "name": "stdout",
     "output_type": "stream",
     "text": [
      "0\n",
      "1\n",
      "2\n",
      "3\n",
      "4\n",
      "5\n",
      "6\n",
      "7\n",
      "8\n",
      "9\n"
     ]
    }
   ],
   "source": [
    "device    = torch.device(\"cuda\" if torch.cuda.is_available() else \"cpu\")\n",
    "rnn.to(device)\n",
    "optimizer = torch.optim.Adam(rnn.parameters(), lr=learning_rate)\n",
    "\n",
    "train_acc = []\n",
    "test_acc  = []\n",
    "Loss      = np.zeros(Nb_epochs)\n",
    "for i in range(Nb_epochs):\n",
    "    rnn.train()\n",
    "    L = 0\n",
    "    for j in range(train_data.shape[0]):\n",
    "        hidden         = rnn.initHidden().to(device)\n",
    "        sequence       = train_data[j].to(device)\n",
    "        sequence_label = train_labels[j].unsqueeze(0).to(device)\n",
    "        output, hidden = rnn(sequence, hidden)\n",
    "        loss           = criterion(output[-1], sequence_label)\n",
    "        \n",
    "        optimizer.zero_grad() # Clears existing gradients from previous epoch\n",
    "        loss.backward() # Does backpropagation and calculates gradients\n",
    "        optimizer.step() # Updates the weights accordingly\n",
    "        \n",
    "        L = L+loss.item()\n",
    "    \n",
    "    \n",
    "    Loss[i] = L\n",
    "    rnn.eval()\n",
    "    \n",
    "    _,train_acc1 = prediction(train_data,train_labels)\n",
    "    _,test_acc1  = prediction(test_data,test_labels)\n",
    "    train_acc.append(train_acc1)\n",
    "    test_acc.append(test_acc1)\n",
    "    print(i)"
   ]
  },
  {
   "cell_type": "markdown",
   "metadata": {},
   "source": [
    "# ========================= Plot loss =========================="
   ]
  },
  {
   "cell_type": "code",
   "execution_count": 7,
   "metadata": {},
   "outputs": [
    {
     "data": {
      "text/plain": [
       "Text(0.5, 1.0, 'RNN loss')"
      ]
     },
     "execution_count": 7,
     "metadata": {},
     "output_type": "execute_result"
    },
    {
     "data": {
      "image/png": "[encoded data removed]",
      "text/plain": [
       "<Figure size 432x288 with 1 Axes>"
      ]
     },
     "metadata": {
      "needs_background": "light"
     },
     "output_type": "display_data"
    }
   ],
   "source": [
    "plt.plot(Loss)\n",
    "plt.xlabel('Epochs')\n",
    "plt.ylabel('loss')\n",
    "plt.title('RNN loss')"
   ]
  },
  {
   "cell_type": "code",
   "execution_count": 8,
   "metadata": {},
   "outputs": [
    {
     "data": {
      "text/plain": [
       "Text(0.5, 1.0, 'RNN accuracy')"
      ]
     },
     "execution_count": 8,
     "metadata": {},
     "output_type": "execute_result"
    },
    {
     "data": {
      "image/png": "[encoded data removed]",
      "text/plain": [
       "<Figure size 432x288 with 1 Axes>"
      ]
     },
     "metadata": {
      "needs_background": "light"
     },
     "output_type": "display_data"
    }
   ],
   "source": [
    "fig = plt.figure()\n",
    "plt.plot(train_acc,label='Train acc',color='r')\n",
    "plt.plot(test_acc,label='Test acc',color='b')\n",
    "plt.xlabel('Epochs')\n",
    "plt.ylabel('Accuracy')\n",
    "plt.title('RNN accuracy')"
   ]
  },
  {
   "cell_type": "code",
   "execution_count": null,
   "metadata": {},
   "outputs": [],
   "source": []
  }
 ],
 "metadata": {
  "kernelspec": {
   "display_name": "Python 3",
   "language": "python",
   "name": "python3"
  },
  "language_info": {
   "codemirror_mode": {
    "name": "ipython",
    "version": 3
   },
   "file_extension": ".py",
   "mimetype": "text/x-python",
   "name": "python",
   "nbconvert_exporter": "python",
   "pygments_lexer": "ipython3",
   "version": "3.7.4"
  }
 },
 "nbformat": 4,
 "nbformat_minor": 2
}
